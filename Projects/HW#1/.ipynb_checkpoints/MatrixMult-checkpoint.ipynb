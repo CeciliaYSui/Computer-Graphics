{
 "cells": [
  {
   "cell_type": "code",
   "execution_count": 183,
   "metadata": {},
   "outputs": [],
   "source": [
    "# Matrix Multiplication \n",
    "# A is 3 by 3\n",
    "# B is 3 by 1\n",
    "def MatrixMult(A, B):\n",
    "    if len(A) != 3: \n",
    "        print(\"Wrong dimension for transformation matrix\")\n",
    "    elif len(B) != 3: \n",
    "        print(\"Wrong dimension for coordinate matrix\")\n",
    "    else: \n",
    "        result = [0 for i in range(3)]\n",
    "        for i in range(3): \n",
    "            for j in range(3):\n",
    "                result[i] += A[i][j]*B[j]\n",
    "        return result"
   ]
  },
  {
   "cell_type": "code",
   "execution_count": 184,
   "metadata": {},
   "outputs": [],
   "source": [
    "# Translation Operation \n",
    "def translate(B):\n",
    "    # B is the original coordinates \n",
    "    B.append(1)\n",
    "    \n",
    "    # populate identity matrix\n",
    "    I = [[0 for i in range(3)] for j in range(3)]\n",
    "    I[0][0], I[1][1], I[2][2] = 1,1,1\n",
    "    \n",
    "    # ask user for translate parameters (e,f)\n",
    "    I[0][2] = int(input(\"Translation factor for x: \"))\n",
    "    I[1][2] = int(input(\"Translation factor for y: \"))\n",
    "    \n",
    "    # matrix multiplicaiton\n",
    "    result = MatrixMult(I, B)\n",
    "    return round(result[0],2), round(result[1],2)"
   ]
  },
  {
   "cell_type": "code",
   "execution_count": 185,
   "metadata": {},
   "outputs": [],
   "source": [
    "def scale(B):\n",
    "    # B is the original coordinates\n",
    "    B.append(1)\n",
    "    \n",
    "    # populate scaling matrix & ask user for scaling factors (a,b)\n",
    "    I = [[0 for i in range(3)] for j in range(3)]\n",
    "    I[2][2] = 1\n",
    "    I[0][0] = int(input(\"Scaling factor for x: \"))\n",
    "    I[1][1] = int(input(\"Scaling factor for y: \"))\n",
    "    \n",
    "    # matrix multiplication\n",
    "    result = MatrixMult(I, B)\n",
    "    return round(result[0],2), round(result[1],2)"
   ]
  },
  {
   "cell_type": "code",
   "execution_count": 186,
   "metadata": {},
   "outputs": [],
   "source": [
    "def rotate(B):\n",
    "    # B is the original coordinates\n",
    "    B.append(1)\n",
    "    \n",
    "    # ask user for rotation angle r\n",
    "    R = input(\"Rotation angle in degrees (r): \").split()\n",
    "    R = [int(i) for i in R]\n",
    "    r = R[0] * math.pi / 180\n",
    "    \n",
    "    # populate scaling matrix\n",
    "    I = [[0 for i in range(3)] for j in range(3)]\n",
    "    I[0][0], I[1][1] = math.cos(r), math.cos(r)\n",
    "    I[0][1], I[1][0] = -math.sin(r), math.sin(r)\n",
    "\n",
    "    # matrix multiplication\n",
    "    result = MatrixMult(I, B)\n",
    "    return round(result[0],2), round(result[1],2)"
   ]
  },
  {
   "cell_type": "code",
   "execution_count": 187,
   "metadata": {},
   "outputs": [
    {
     "name": "stdout",
     "output_type": "stream",
     "text": [
      "x coordinate: 10\n",
      "y coordinate: 0\n",
      "Choose transformation: enter T for translation, S for scaling, R for rotation: r\n",
      "Rotation angle in degrees (r): 90\n",
      "New point at: (0.0, 10.0)\n"
     ]
    }
   ],
   "source": [
    "def main(): \n",
    "    x = int(input(\"x coordinate: \"))\n",
    "    y = int(input(\"y coordinate: \"))\n",
    "    Coor = [x,y]\n",
    "    user = input(\"Choose transformation: enter T for translation, S for scaling, R for rotation: \").strip().upper()[0]\n",
    "    # \n",
    "    if user == \"T\":\n",
    "        print(\"New point at:\", translate(Coor))\n",
    "    elif user == \"S\":\n",
    "        print(\"New point at:\", scale(Coor))\n",
    "    elif user == \"R\":\n",
    "        print(\"New point at:\", rotate(Coor))\n",
    "    else: \n",
    "        print(\"Invalid Input.\")\n",
    "\n",
    "if __name__ == \"__main__\":\n",
    "    main()"
   ]
  },
  {
   "cell_type": "code",
   "execution_count": null,
   "metadata": {},
   "outputs": [],
   "source": []
  }
 ],
 "metadata": {
  "kernelspec": {
   "display_name": "Python 3",
   "language": "python",
   "name": "python3"
  },
  "language_info": {
   "codemirror_mode": {
    "name": "ipython",
    "version": 3
   },
   "file_extension": ".py",
   "mimetype": "text/x-python",
   "name": "python",
   "nbconvert_exporter": "python",
   "pygments_lexer": "ipython3",
   "version": "3.7.3"
  }
 },
 "nbformat": 4,
 "nbformat_minor": 2
}
